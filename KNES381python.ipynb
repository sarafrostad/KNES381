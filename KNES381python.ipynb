{
 "cells": [
  {
   "cell_type": "markdown",
   "id": "f58396b4",
   "metadata": {
    "_cell_guid": "aa81d62c-6a9b-45f1-a708-e1bb3b930428",
    "_uuid": "059f76ab-b66a-48a5-bc21-f3f14aa7125b",
    "collapsed": false,
    "jupyter": {
     "outputs_hidden": false
    },
    "papermill": {
     "duration": 0.008012,
     "end_time": "2025-03-26T02:18:02.663193",
     "exception": false,
     "start_time": "2025-03-26T02:18:02.655181",
     "status": "completed"
    },
    "tags": []
   },
   "source": [
    "<IMG SRC=\"https://ucalgary.ca/themes/ucalgary/ucws_theme/images/UCalgary.svg\" WIDTH=250 ALIGN=\"right\">    </IMG>\n",
    "## Plotting $\\dot{V}O_2$ continued...\n",
    "\n",
    "#### Developed by Dr. John Holash at the University of Calgary"
   ]
  },
  {
   "cell_type": "code",
   "execution_count": 1,
   "id": "ead0833d",
   "metadata": {
    "_cell_guid": "d0abeab4-41bc-4327-833c-b7f759c55b1e",
    "_uuid": "af84ac7f-71cd-429d-a1a5-fee1be0e6e9e",
    "collapsed": false,
    "execution": {
     "iopub.execute_input": "2025-03-26T02:18:02.678744Z",
     "iopub.status.busy": "2025-03-26T02:18:02.678305Z",
     "iopub.status.idle": "2025-03-26T02:18:02.697335Z",
     "shell.execute_reply": "2025-03-26T02:18:02.696052Z"
    },
    "jupyter": {
     "outputs_hidden": false
    },
    "papermill": {
     "duration": 0.029675,
     "end_time": "2025-03-26T02:18:02.700046",
     "exception": false,
     "start_time": "2025-03-26T02:18:02.670371",
     "status": "completed"
    },
    "tags": []
   },
   "outputs": [
    {
     "name": "stdout",
     "output_type": "stream",
     "text": [
      "/kaggle/input/demo-knes381/subject_1321.xlsx\n",
      "/kaggle/input/demo-knes381/subject_1432.xlsx\n",
      "/kaggle/input/demo-knes381/subject_1321.csv\n",
      "/kaggle/input/demo-knes381/subject_1232.csv\n",
      "/kaggle/input/demo-knes381/VO2_CSV.csv\n",
      "/kaggle/input/demo-knes381/subject_1232.xlsx\n",
      "/kaggle/input/demo-knes381/subject_1432.csv\n",
      "/kaggle/input/demo-knes381/subject_1523.csv\n",
      "/kaggle/input/demo-knes381/VO2_excel.xlsx\n",
      "/kaggle/input/demo-knes381/subject_1523.xlsx\n"
     ]
    }
   ],
   "source": [
    "# This Python 3 environment comes with many helpful analytics libraries installed\n",
    "# It is defined by the kaggle/python Docker image: https://github.com/kaggle/docker-python\n",
    "# For example, here's several helpful packages to load\n",
    "\n",
    "import numpy as np # linear algebra\n",
    "import pandas as pd # data processing, CSV file I/O (e.g. pd.read_csv)\n",
    "\n",
    "# Input data files are available in the read-only \"../input/\" directory\n",
    "# For example, running this (by clicking run or pressing Shift+Enter) will list all files under the input directory\n",
    "\n",
    "import os\n",
    "for dirname, _, filenames in os.walk('/kaggle/input'):\n",
    "    for filename in filenames:\n",
    "        print(os.path.join(dirname, filename))\n",
    "\n",
    "# You can write up to 20GB to the current directory (/kaggle/working/) that gets preserved as output when you create a version using \"Save & Run All\" \n",
    "# You can also write temporary files to /kaggle/temp/, but they won't be saved outside of the current session"
   ]
  },
  {
   "cell_type": "code",
   "execution_count": 2,
   "id": "7adbc959",
   "metadata": {
    "_cell_guid": "6e07556f-3304-4965-8248-a31a75704a55",
    "_uuid": "2f3232f6-680a-4d78-b856-5ba224b0ad73",
    "collapsed": false,
    "execution": {
     "iopub.execute_input": "2025-03-26T02:18:02.715103Z",
     "iopub.status.busy": "2025-03-26T02:18:02.714738Z",
     "iopub.status.idle": "2025-03-26T02:18:02.733819Z",
     "shell.execute_reply": "2025-03-26T02:18:02.732556Z"
    },
    "jupyter": {
     "outputs_hidden": false
    },
    "papermill": {
     "duration": 0.029631,
     "end_time": "2025-03-26T02:18:02.736491",
     "exception": false,
     "start_time": "2025-03-26T02:18:02.706860",
     "status": "completed"
    },
    "tags": []
   },
   "outputs": [],
   "source": [
    "df = pd.read_csv('../input/demo-knes381/subject_1321.csv', header=[0], skiprows=[1,2,3])"
   ]
  },
  {
   "cell_type": "code",
   "execution_count": 3,
   "id": "e608bdb0",
   "metadata": {
    "_cell_guid": "383f4364-8687-4433-97a1-83b8f96d17aa",
    "_uuid": "fb0cc54a-13b1-4956-858d-0c8965c56260",
    "collapsed": false,
    "execution": {
     "iopub.execute_input": "2025-03-26T02:18:02.751759Z",
     "iopub.status.busy": "2025-03-26T02:18:02.751202Z",
     "iopub.status.idle": "2025-03-26T02:18:02.781998Z",
     "shell.execute_reply": "2025-03-26T02:18:02.780707Z"
    },
    "jupyter": {
     "outputs_hidden": false
    },
    "papermill": {
     "duration": 0.041113,
     "end_time": "2025-03-26T02:18:02.784382",
     "exception": false,
     "start_time": "2025-03-26T02:18:02.743269",
     "status": "completed"
    },
    "tags": []
   },
   "outputs": [
    {
     "name": "stdout",
     "output_type": "stream",
     "text": [
      "<class 'pandas.core.frame.DataFrame'>\n",
      "RangeIndex: 54 entries, 0 to 53\n",
      "Data columns (total 17 columns):\n",
      " #   Column   Non-Null Count  Dtype  \n",
      "---  ------   --------------  -----  \n",
      " 0   TIME     54 non-null     float64\n",
      " 1   VO2      54 non-null     float64\n",
      " 2   VO2/kg   54 non-null     float64\n",
      " 3   METS     54 non-null     float64\n",
      " 4   VCO2     54 non-null     float64\n",
      " 5   VE       54 non-null     float64\n",
      " 6   RER      54 non-null     float64\n",
      " 7   RR       54 non-null     float64\n",
      " 8   Vt       54 non-null     float64\n",
      " 9   FEO2     54 non-null     float64\n",
      " 10  FECO2    54 non-null     float64\n",
      " 11  HR       54 non-null     float64\n",
      " 12  VE/      54 non-null     float64\n",
      " 13  VE/.1    54 non-null     float64\n",
      " 14  PetCO2   54 non-null     float64\n",
      " 15  Power    51 non-null     float64\n",
      " 16  Lactate  8 non-null      object \n",
      "dtypes: float64(16), object(1)\n",
      "memory usage: 7.3+ KB\n"
     ]
    }
   ],
   "source": [
    "df.info()"
   ]
  },
  {
   "cell_type": "markdown",
   "id": "b5894aa0",
   "metadata": {
    "_cell_guid": "4bb42280-7cf8-449b-8f87-066e509d3735",
    "_uuid": "c9dddc80-73ff-4742-aea4-439bb6256ab0",
    "collapsed": false,
    "jupyter": {
     "outputs_hidden": false
    },
    "papermill": {
     "duration": 0.006384,
     "end_time": "2025-03-26T02:18:02.797517",
     "exception": false,
     "start_time": "2025-03-26T02:18:02.791133",
     "status": "completed"
    },
    "tags": []
   },
   "source": [
    "### Rename some of the columns so they make sense\n",
    "you can rename them with the value TIME -> Time(min) but don't leave spaces if you want to auto-complete names..."
   ]
  },
  {
   "cell_type": "code",
   "execution_count": 4,
   "id": "c1968251",
   "metadata": {
    "_cell_guid": "a14424fc-2c7d-4a8a-9105-c9681757f283",
    "_uuid": "2a178114-9d08-40c4-9b5d-520258dd543e",
    "collapsed": false,
    "execution": {
     "iopub.execute_input": "2025-03-26T02:18:02.812703Z",
     "iopub.status.busy": "2025-03-26T02:18:02.812183Z",
     "iopub.status.idle": "2025-03-26T02:18:02.818867Z",
     "shell.execute_reply": "2025-03-26T02:18:02.817567Z"
    },
    "jupyter": {
     "outputs_hidden": false
    },
    "papermill": {
     "duration": 0.017255,
     "end_time": "2025-03-26T02:18:02.821365",
     "exception": false,
     "start_time": "2025-03-26T02:18:02.804110",
     "status": "completed"
    },
    "tags": []
   },
   "outputs": [],
   "source": [
    "df = df.rename(columns={'VE/': 'VE/VO2','VE/.1': 'VE/VCO2', \"TIME\" : \"Time(min)\"})"
   ]
  },
  {
   "cell_type": "code",
   "execution_count": 5,
   "id": "110a0914",
   "metadata": {
    "_cell_guid": "276a3f67-5127-41fe-89de-7bf062ca3845",
    "_uuid": "50ab5edc-e70b-45d9-99a9-57716420cfd3",
    "collapsed": false,
    "execution": {
     "iopub.execute_input": "2025-03-26T02:18:02.836661Z",
     "iopub.status.busy": "2025-03-26T02:18:02.836242Z",
     "iopub.status.idle": "2025-03-26T02:18:02.850262Z",
     "shell.execute_reply": "2025-03-26T02:18:02.848716Z"
    },
    "jupyter": {
     "outputs_hidden": false
    },
    "papermill": {
     "duration": 0.024454,
     "end_time": "2025-03-26T02:18:02.852614",
     "exception": false,
     "start_time": "2025-03-26T02:18:02.828160",
     "status": "completed"
    },
    "tags": []
   },
   "outputs": [
    {
     "name": "stdout",
     "output_type": "stream",
     "text": [
      "<class 'pandas.core.frame.DataFrame'>\n",
      "RangeIndex: 54 entries, 0 to 53\n",
      "Data columns (total 17 columns):\n",
      " #   Column     Non-Null Count  Dtype  \n",
      "---  ------     --------------  -----  \n",
      " 0   Time(min)  54 non-null     float64\n",
      " 1   VO2        54 non-null     float64\n",
      " 2   VO2/kg     54 non-null     float64\n",
      " 3   METS       54 non-null     float64\n",
      " 4   VCO2       54 non-null     float64\n",
      " 5   VE         54 non-null     float64\n",
      " 6   RER        54 non-null     float64\n",
      " 7   RR         54 non-null     float64\n",
      " 8   Vt         54 non-null     float64\n",
      " 9   FEO2       54 non-null     float64\n",
      " 10  FECO2      54 non-null     float64\n",
      " 11  HR         54 non-null     float64\n",
      " 12  VE/VO2     54 non-null     float64\n",
      " 13  VE/VCO2    54 non-null     float64\n",
      " 14  PetCO2     54 non-null     float64\n",
      " 15  Power      51 non-null     float64\n",
      " 16  Lactate    8 non-null      object \n",
      "dtypes: float64(16), object(1)\n",
      "memory usage: 7.3+ KB\n"
     ]
    }
   ],
   "source": [
    "df.info()"
   ]
  },
  {
   "cell_type": "code",
   "execution_count": 6,
   "id": "10a005b9",
   "metadata": {
    "_cell_guid": "0b72eba2-9d80-4faa-88f3-a52b38da9414",
    "_uuid": "ffa5620a-54c6-43b0-8bad-cdf3181d01f9",
    "collapsed": false,
    "execution": {
     "iopub.execute_input": "2025-03-26T02:18:02.869171Z",
     "iopub.status.busy": "2025-03-26T02:18:02.868336Z",
     "iopub.status.idle": "2025-03-26T02:18:02.873385Z",
     "shell.execute_reply": "2025-03-26T02:18:02.872245Z"
    },
    "jupyter": {
     "outputs_hidden": false
    },
    "papermill": {
     "duration": 0.015515,
     "end_time": "2025-03-26T02:18:02.875767",
     "exception": false,
     "start_time": "2025-03-26T02:18:02.860252",
     "status": "completed"
    },
    "tags": []
   },
   "outputs": [],
   "source": [
    "import matplotlib.pyplot as plt"
   ]
  },
  {
   "cell_type": "markdown",
   "id": "e57b9518",
   "metadata": {
    "_cell_guid": "28f907c3-207b-4f18-98cc-44fc6c1664c9",
    "_uuid": "f6502bd0-7d68-4b02-8e14-330809b0e4a9",
    "collapsed": false,
    "jupyter": {
     "outputs_hidden": false
    },
    "papermill": {
     "duration": 0.006547,
     "end_time": "2025-03-26T02:18:02.889845",
     "exception": false,
     "start_time": "2025-03-26T02:18:02.883298",
     "status": "completed"
    },
    "tags": []
   },
   "source": [
    "### Create our big plot...\n",
    "1st define our variables x,y,& y1"
   ]
  },
  {
   "cell_type": "code",
   "execution_count": 7,
   "id": "eb3db016",
   "metadata": {
    "_cell_guid": "edb04c41-7032-4fbb-b53f-732ed40a0ae9",
    "_uuid": "c93cd7f0-ae8e-4d2f-b77f-75b34164d4d8",
    "collapsed": false,
    "execution": {
     "iopub.execute_input": "2025-03-26T02:18:02.905514Z",
     "iopub.status.busy": "2025-03-26T02:18:02.904754Z",
     "iopub.status.idle": "2025-03-26T02:18:02.910042Z",
     "shell.execute_reply": "2025-03-26T02:18:02.908960Z"
    },
    "jupyter": {
     "outputs_hidden": false
    },
    "papermill": {
     "duration": 0.015739,
     "end_time": "2025-03-26T02:18:02.912254",
     "exception": false,
     "start_time": "2025-03-26T02:18:02.896515",
     "status": "completed"
    },
    "tags": []
   },
   "outputs": [],
   "source": [
    "# simplify our terms to reduce future typing...\n",
    "x = df['Time(min)']\n",
    "y = df['VO2']\n",
    "y1 = df['VE']"
   ]
  },
  {
   "cell_type": "markdown",
   "id": "cb8120cd",
   "metadata": {
    "_cell_guid": "065af8c6-262c-4832-8090-706cb30b5a55",
    "_uuid": "daf604da-53ae-47ca-93dc-9c21a8c75bad",
    "collapsed": false,
    "jupyter": {
     "outputs_hidden": false
    },
    "papermill": {
     "duration": 0.006171,
     "end_time": "2025-03-26T02:18:02.925761",
     "exception": false,
     "start_time": "2025-03-26T02:18:02.919590",
     "status": "completed"
    },
    "tags": []
   },
   "source": [
    "#### Find the position where max occurs, on each axes"
   ]
  },
  {
   "cell_type": "code",
   "execution_count": 8,
   "id": "6d4f7d79",
   "metadata": {
    "_cell_guid": "c38cb15c-245d-46af-b1be-173617f2b057",
    "_uuid": "3fef652e-5ce2-4b84-aec1-ab0d1265b566",
    "collapsed": false,
    "execution": {
     "iopub.execute_input": "2025-03-26T02:18:02.941046Z",
     "iopub.status.busy": "2025-03-26T02:18:02.940334Z",
     "iopub.status.idle": "2025-03-26T02:18:02.946102Z",
     "shell.execute_reply": "2025-03-26T02:18:02.944960Z"
    },
    "jupyter": {
     "outputs_hidden": false
    },
    "papermill": {
     "duration": 0.015932,
     "end_time": "2025-03-26T02:18:02.948209",
     "exception": false,
     "start_time": "2025-03-26T02:18:02.932277",
     "status": "completed"
    },
    "tags": []
   },
   "outputs": [],
   "source": [
    "#Find VO2 max value \n",
    "ymax = max(y)\n",
    "\n",
    "# find the x position of the ymax value or where ymax occurs on the x axis\n",
    "xmax = x[y.argmax()]"
   ]
  },
  {
   "cell_type": "markdown",
   "id": "dbbb3ce6",
   "metadata": {
    "_cell_guid": "033e7cd8-656b-4aed-8b49-b2c2f4bf90f7",
    "_uuid": "0909d3ef-f5e5-428e-9c88-91ab8a02300b",
    "collapsed": false,
    "jupyter": {
     "outputs_hidden": false
    },
    "papermill": {
     "duration": 0.006308,
     "end_time": "2025-03-26T02:18:02.961178",
     "exception": false,
     "start_time": "2025-03-26T02:18:02.954870",
     "status": "completed"
    },
    "tags": []
   },
   "source": [
    "#### Now we can discover what these values are"
   ]
  },
  {
   "cell_type": "code",
   "execution_count": 9,
   "id": "6314c87b",
   "metadata": {
    "_cell_guid": "acf88316-9904-4699-a9e6-b7d40b316980",
    "_uuid": "3ac77bd2-f281-4fdf-8b96-830bdbc2a673",
    "collapsed": false,
    "execution": {
     "iopub.execute_input": "2025-03-26T02:18:02.977680Z",
     "iopub.status.busy": "2025-03-26T02:18:02.976987Z",
     "iopub.status.idle": "2025-03-26T02:18:02.982761Z",
     "shell.execute_reply": "2025-03-26T02:18:02.981664Z"
    },
    "jupyter": {
     "outputs_hidden": false
    },
    "papermill": {
     "duration": 0.016346,
     "end_time": "2025-03-26T02:18:02.985101",
     "exception": false,
     "start_time": "2025-03-26T02:18:02.968755",
     "status": "completed"
    },
    "tags": []
   },
   "outputs": [
    {
     "name": "stdout",
     "output_type": "stream",
     "text": [
      "2.778085\n",
      "26.862507\n"
     ]
    }
   ],
   "source": [
    "print(ymax)\n",
    "print(xmax)"
   ]
  },
  {
   "cell_type": "markdown",
   "id": "0b3593e8",
   "metadata": {
    "_cell_guid": "422bd593-c0c6-48d8-b846-616746fa5e34",
    "_uuid": "d562f295-01ec-40d7-912f-7890de7d266d",
    "collapsed": false,
    "jupyter": {
     "outputs_hidden": false
    },
    "papermill": {
     "duration": 0.006501,
     "end_time": "2025-03-26T02:18:02.998341",
     "exception": false,
     "start_time": "2025-03-26T02:18:02.991840",
     "status": "completed"
    },
    "tags": []
   },
   "source": [
    "#### Create the frame and the axis that we will plot in"
   ]
  },
  {
   "cell_type": "code",
   "execution_count": 10,
   "id": "5c23b069",
   "metadata": {
    "_cell_guid": "f9abe4a4-d403-4842-b056-e3658603ecb9",
    "_uuid": "10d568e2-ef26-4756-a063-a16eed334bd5",
    "collapsed": false,
    "execution": {
     "iopub.execute_input": "2025-03-26T02:18:03.014400Z",
     "iopub.status.busy": "2025-03-26T02:18:03.013129Z",
     "iopub.status.idle": "2025-03-26T02:18:03.319110Z",
     "shell.execute_reply": "2025-03-26T02:18:03.317924Z"
    },
    "jupyter": {
     "outputs_hidden": false
    },
    "papermill": {
     "duration": 0.316337,
     "end_time": "2025-03-26T02:18:03.321416",
     "exception": false,
     "start_time": "2025-03-26T02:18:03.005079",
     "status": "completed"
    },
    "tags": []
   },
   "outputs": [
    {
     "data": {
      "image/png": "[encoded data removed]",
      "text/plain": [
       "<Figure size 640x480 with 2 Axes>"
      ]
     },
     "metadata": {},
     "output_type": "display_data"
    }
   ],
   "source": [
    "# break up the figure and axis definitions of a plot \n",
    "# so it is easier to assign values\n",
    "\n",
    "fig, ax = plt.subplots(2, 1, sharex=True)\n",
    "\n",
    "# create 2 subplots share x axis, in the next line we will remove \n",
    "# spaces between the horizontal axis, play with this value to see what happens the value can be 0.01 for example\n",
    "\n",
    "fig.subplots_adjust(hspace=0.1\n",
    "                   )"
   ]
  },
  {
   "cell_type": "markdown",
   "id": "47702772",
   "metadata": {
    "_cell_guid": "fac1731e-5a74-4859-af89-b3c630c48b01",
    "_uuid": "c7db4207-caaf-486c-819a-43862dd6e111",
    "collapsed": false,
    "jupyter": {
     "outputs_hidden": false
    },
    "papermill": {
     "duration": 0.006815,
     "end_time": "2025-03-26T02:18:03.335571",
     "exception": false,
     "start_time": "2025-03-26T02:18:03.328756",
     "status": "completed"
    },
    "tags": []
   },
   "source": [
    "#### Now that we have that axis value specified, annotate the position and marker for VO2 max"
   ]
  },
  {
   "cell_type": "code",
   "execution_count": 11,
   "id": "31ba9b02",
   "metadata": {
    "_cell_guid": "b296887b-900e-44a1-a7ec-4b4eb534dc69",
    "_uuid": "fac8e92f-1180-4795-a3d6-1e360b9516ac",
    "collapsed": false,
    "execution": {
     "iopub.execute_input": "2025-03-26T02:18:03.351466Z",
     "iopub.status.busy": "2025-03-26T02:18:03.351072Z",
     "iopub.status.idle": "2025-03-26T02:18:03.360024Z",
     "shell.execute_reply": "2025-03-26T02:18:03.358798Z"
    },
    "jupyter": {
     "outputs_hidden": false
    },
    "papermill": {
     "duration": 0.019623,
     "end_time": "2025-03-26T02:18:03.362246",
     "exception": false,
     "start_time": "2025-03-26T02:18:03.342623",
     "status": "completed"
    },
    "tags": []
   },
   "outputs": [
    {
     "data": {
      "text/plain": [
       "Text(27.362507, 3.778085, '$\\\\dot VO_2max$ =(2.78) L/min')"
      ]
     },
     "execution_count": 11,
     "metadata": {},
     "output_type": "execute_result"
    }
   ],
   "source": [
    "ax[0].annotate('$\\dot VO_2max$ =({}) L/min'.format(round(ymax, 2)), \n",
    "               xy=(xmax, ymax), xytext=(xmax+.5, ymax+ 1),\n",
    "               arrowprops=dict(facecolor='red', shrink= 0.05),\n",
    "                )"
   ]
  },
  {
   "cell_type": "markdown",
   "id": "9f5879b0",
   "metadata": {
    "_cell_guid": "58f839da-bfda-4e89-a1fe-78c3ef45d30b",
    "_uuid": "d0440b97-9bb8-4e20-8b54-90fc5b1fd17e",
    "collapsed": false,
    "jupyter": {
     "outputs_hidden": false
    },
    "papermill": {
     "duration": 0.007008,
     "end_time": "2025-03-26T02:18:03.376286",
     "exception": false,
     "start_time": "2025-03-26T02:18:03.369278",
     "status": "completed"
    },
    "tags": []
   },
   "source": [
    "#### For the first plot ax[0] we create the lable and make it red\n",
    "Then we get rid of the right and top plot frame\n",
    "We set the y axis lab as \"L/min\" and tell it to print a legend"
   ]
  },
  {
   "cell_type": "code",
   "execution_count": 12,
   "id": "53c24ad8",
   "metadata": {
    "_cell_guid": "7d186dda-f7b2-4c9c-b6c8-3308d9c07298",
    "_uuid": "f03e2a0b-b3d7-4e76-a8a6-5780f7bc542a",
    "collapsed": false,
    "execution": {
     "iopub.execute_input": "2025-03-26T02:18:03.392978Z",
     "iopub.status.busy": "2025-03-26T02:18:03.392594Z",
     "iopub.status.idle": "2025-03-26T02:18:03.403951Z",
     "shell.execute_reply": "2025-03-26T02:18:03.402920Z"
    },
    "jupyter": {
     "outputs_hidden": false
    },
    "papermill": {
     "duration": 0.022763,
     "end_time": "2025-03-26T02:18:03.406326",
     "exception": false,
     "start_time": "2025-03-26T02:18:03.383563",
     "status": "completed"
    },
    "tags": []
   },
   "outputs": [
    {
     "data": {
      "text/plain": [
       "<matplotlib.legend.Legend at 0x7d28eeafaa90>"
      ]
     },
     "execution_count": 12,
     "metadata": {},
     "output_type": "execute_result"
    }
   ],
   "source": [
    "ax[0].plot(x, y,  label=('$\\dot VO_2$'), c='r' )\n",
    "ax[0].spines[['right', 'top']].set_visible(False)\n",
    "#note all these set features could be added in one line but reading it would be difficult\n",
    "#ax.set(title = ('$\\dot VO_2$'), label=('$\\dot VO_2$ L/min'))  \n",
    "ax[0].set(ylabel=('L/min'))\n",
    "ax[0].legend()"
   ]
  },
  {
   "cell_type": "markdown",
   "id": "0500646c",
   "metadata": {
    "_cell_guid": "026e1182-0bb1-4d88-bcb4-02a1312f89f8",
    "_uuid": "dd283d2f-210a-462c-a8fe-2246a1f89756",
    "collapsed": false,
    "jupyter": {
     "outputs_hidden": false
    },
    "papermill": {
     "duration": 0.007272,
     "end_time": "2025-03-26T02:18:03.420749",
     "exception": false,
     "start_time": "2025-03-26T02:18:03.413477",
     "status": "completed"
    },
    "tags": []
   },
   "source": [
    "#### Same thing for the second plot *note* we don't see the plot because we have not ploted the plot"
   ]
  },
  {
   "cell_type": "code",
   "execution_count": 13,
   "id": "83bf35dd",
   "metadata": {
    "_cell_guid": "e708b58e-048b-44c5-bdc7-29991f8705aa",
    "_uuid": "3335f5a7-147e-48bd-a7ab-a7153a834344",
    "collapsed": false,
    "execution": {
     "iopub.execute_input": "2025-03-26T02:18:03.437561Z",
     "iopub.status.busy": "2025-03-26T02:18:03.436688Z",
     "iopub.status.idle": "2025-03-26T02:18:03.447747Z",
     "shell.execute_reply": "2025-03-26T02:18:03.446617Z"
    },
    "jupyter": {
     "outputs_hidden": false
    },
    "papermill": {
     "duration": 0.022206,
     "end_time": "2025-03-26T02:18:03.450076",
     "exception": false,
     "start_time": "2025-03-26T02:18:03.427870",
     "status": "completed"
    },
    "tags": []
   },
   "outputs": [
    {
     "data": {
      "text/plain": [
       "<matplotlib.legend.Legend at 0x7d28eea4d210>"
      ]
     },
     "execution_count": 13,
     "metadata": {},
     "output_type": "execute_result"
    }
   ],
   "source": [
    "# Second plot of values down from the top\n",
    "ax[1].plot(x, y1, label=('VE'), c='b')\n",
    "ax[1].spines[['top', 'right']].set_visible(False)\n",
    "ax[1].set(ylabel=('L/min'))\n",
    "ax[1].legend()"
   ]
  },
  {
   "cell_type": "markdown",
   "id": "b1baae46",
   "metadata": {
    "_cell_guid": "e51ee1e9-0e51-49c4-986b-e93b7e08baba",
    "_uuid": "2cecda06-9bc5-44ea-907b-ded258c8954a",
    "collapsed": false,
    "jupyter": {
     "outputs_hidden": false
    },
    "papermill": {
     "duration": 0.007001,
     "end_time": "2025-03-26T02:18:03.464540",
     "exception": false,
     "start_time": "2025-03-26T02:18:03.457539",
     "status": "completed"
    },
    "tags": []
   },
   "source": [
    "#### We can now create a file with our first plot! We will save the plot first for reasons discussed"
   ]
  },
  {
   "cell_type": "code",
   "execution_count": 14,
   "id": "1d338c84",
   "metadata": {
    "_cell_guid": "5205532a-0e2f-4961-99d0-29dc1e3cf76c",
    "_uuid": "4c0b88d9-c879-47f1-85d3-33b1391a01b1",
    "collapsed": false,
    "execution": {
     "iopub.execute_input": "2025-03-26T02:18:03.481744Z",
     "iopub.status.busy": "2025-03-26T02:18:03.480401Z",
     "iopub.status.idle": "2025-03-26T02:18:04.053081Z",
     "shell.execute_reply": "2025-03-26T02:18:04.051821Z"
    },
    "jupyter": {
     "outputs_hidden": false
    },
    "papermill": {
     "duration": 0.58412,
     "end_time": "2025-03-26T02:18:04.055908",
     "exception": false,
     "start_time": "2025-03-26T02:18:03.471788",
     "status": "completed"
    },
    "tags": []
   },
   "outputs": [],
   "source": [
    "fig.savefig(\"VO2-VE-3.png\", dpi=300, bbox_inches = \"tight\")"
   ]
  },
  {
   "cell_type": "markdown",
   "id": "d9ed2a98",
   "metadata": {
    "_cell_guid": "4c5f4e11-bcb7-41f8-a0fa-9a6ed34fb29b",
    "_uuid": "1a15355a-58c8-437d-a4cb-c5adab42f737",
    "collapsed": false,
    "jupyter": {
     "outputs_hidden": false
    },
    "papermill": {
     "duration": 0.007142,
     "end_time": "2025-03-26T02:18:04.070671",
     "exception": false,
     "start_time": "2025-03-26T02:18:04.063529",
     "status": "completed"
    },
    "tags": []
   },
   "source": [
    "#### As this is an interactive space we need to put all the code together for it to plot out interactively..."
   ]
  },
  {
   "cell_type": "code",
   "execution_count": 15,
   "id": "1bf1f929",
   "metadata": {
    "_cell_guid": "9561d2db-b2ff-426d-8cde-6b32424a9807",
    "_uuid": "f9c18fb5-65dd-466d-a7db-1d97218a438c",
    "collapsed": false,
    "execution": {
     "iopub.execute_input": "2025-03-26T02:18:04.087204Z",
     "iopub.status.busy": "2025-03-26T02:18:04.086492Z",
     "iopub.status.idle": "2025-03-26T02:18:05.114712Z",
     "shell.execute_reply": "2025-03-26T02:18:05.113486Z"
    },
    "jupyter": {
     "outputs_hidden": false
    },
    "papermill": {
     "duration": 1.039007,
     "end_time": "2025-03-26T02:18:05.117097",
     "exception": false,
     "start_time": "2025-03-26T02:18:04.078090",
     "status": "completed"
    },
    "tags": []
   },
   "outputs": [
    {
     "data": {
      "image/png": "[encoded data removed]",
      "text/plain": [
       "<Figure size 640x480 with 2 Axes>"
      ]
     },
     "metadata": {},
     "output_type": "display_data"
    }
   ],
   "source": [
    "# break up the figure and axis definitions of a plot \n",
    "# so it is easier to assign values\n",
    "fig, ax = plt.subplots(2, 1, sharex=True)  # Height increased from default\n",
    "# spaces between the horizontal axis, play with this value?\n",
    "fig.subplots_adjust(hspace=0)\n",
    "\n",
    "\n",
    "ax[0].annotate('$\\dot VO_2max$ =({}) L/min'.format(round(ymax, 2)), \n",
    "               xy=(xmax, ymax), xytext=(xmax+.5, ymax+ 1),\n",
    "               arrowprops=dict(facecolor='red', shrink= 0.05),\n",
    "                )\n",
    "\n",
    "ax[0].plot(x, y,  label=('$\\dot VO_2$'), c='r' )\n",
    "ax[0].spines[['right', 'top']].set_visible(False)\n",
    "#note all these set features could be added in one line but reading it would be difficult\n",
    "#ax.set(title = ('$\\dot VO_2$'), label=('$\\dot VO_2$ L/min'))  \n",
    "ax[0].set(ylabel=('L/min'))\n",
    "ax[0].legend()\n",
    "\n",
    "# Second plot of values down from the top\n",
    "ax[1].plot(x, y1, label=('VE'), c='b')\n",
    "ax[1].spines[['top', 'right']].set_visible(False)\n",
    "ax[1].set(ylabel=('breaths/min'))\n",
    "ax[1].legend()\n",
    "\n",
    "#ax[0].set_ylim(min(y) - 1, max(y) + 1)  # Adjust as needed for your data\n",
    "#ax[1].set_ylim(min(y1) - 1, max(y1) + 1)  # Adjust as needed\n",
    "\n",
    "# save the figure before we show it... or it will be blank\n",
    "fig.savefig(\"VO2-VE-3.png\", dpi=300, bbox_inches = \"tight\")\n",
    "fig.show()"
   ]
  },
  {
   "cell_type": "markdown",
   "id": "fa793b04",
   "metadata": {
    "_cell_guid": "71f7b4da-a75e-45b7-a561-b3709d4ba164",
    "_uuid": "bc128fe0-d9e2-4e8d-afa4-f71beecd52c8",
    "collapsed": false,
    "jupyter": {
     "outputs_hidden": false
    },
    "papermill": {
     "duration": 0.007967,
     "end_time": "2025-03-26T02:18:05.133572",
     "exception": false,
     "start_time": "2025-03-26T02:18:05.125605",
     "status": "completed"
    },
    "tags": []
   },
   "source": [
    "### We can put this all together now in one code block that does everything...\n",
    "\n",
    "We have built up each part seperatly in the code above to make sure that all parts of our code should and do work.  Now that we know everything works we can take the next step of putting it together in one code block so we don't run into coherence problems (running things out of order).  We will run everything in one block now, this is a self contained python file and you could turn it into a .py file and run it from the command line and if your path to the datafile was accurate it would run and save the image file."
   ]
  },
  {
   "cell_type": "code",
   "execution_count": 16,
   "id": "67617b67",
   "metadata": {
    "_cell_guid": "2b829cc0-2f19-4a56-9f7d-6fbfa20f1d63",
    "_uuid": "62b9cee1-e4a2-404f-92c1-8b8d989b2186",
    "collapsed": false,
    "execution": {
     "iopub.execute_input": "2025-03-26T02:18:05.152756Z",
     "iopub.status.busy": "2025-03-26T02:18:05.151537Z",
     "iopub.status.idle": "2025-03-26T02:18:07.477484Z",
     "shell.execute_reply": "2025-03-26T02:18:07.476243Z"
    },
    "jupyter": {
     "outputs_hidden": false
    },
    "papermill": {
     "duration": 2.338171,
     "end_time": "2025-03-26T02:18:07.480143",
     "exception": false,
     "start_time": "2025-03-26T02:18:05.141972",
     "status": "completed"
    },
    "tags": []
   },
   "outputs": [
    {
     "data": {
      "image/png": "[encoded data removed]",
      "text/plain": [
       "<Figure size 800x1000 with 2 Axes>"
      ]
     },
     "metadata": {},
     "output_type": "display_data"
    },
    {
     "data": {
      "image/png": "[encoded data removed]",
      "text/plain": [
       "<Figure size 800x1000 with 2 Axes>"
      ]
     },
     "metadata": {},
     "output_type": "display_data"
    }
   ],
   "source": [
    "### Now all together in one code block that could run independently...\n",
    "# lets take care of importing everything we need at once\n",
    "\n",
    "import numpy as np # linear algebra\n",
    "import pandas as pd # data processing, CSV file I/O (e.g. pd.read_csv)\n",
    "import matplotlib.pyplot as plt\n",
    "\n",
    "df = pd.read_csv('../input/demo-knes381/subject_1321.csv', header=[0], skiprows=[1,2,3])\n",
    "\n",
    "df = df.rename(columns={'VE/': 'VE/VO2','VE/.1': 'VE/VCO2', \"TIME\" : 'Time(min)'})\n",
    "\n",
    "x = df['Time(min)']\n",
    "y = df['VO2']\n",
    "y1 = df['VE']\n",
    "y2 = df['FECO2']\n",
    "y3 = df['VCO2']\n",
    "\n",
    "ymax = max(y)\n",
    "\n",
    "xmax = x[y.argmax()]\n",
    "\n",
    "fig, ax = plt.subplots(2, 1, sharex=True, figsize=(8, 10)) \n",
    "\n",
    "fig.subplots_adjust(hspace=0)\n",
    "\n",
    "ax[0].annotate('$\\dot VO_2max$ =({}) L/min'.format(round(ymax, 2)), \n",
    "               xy=(xmax, ymax), xytext=(xmax+.5, ymax+ .5),\n",
    "               arrowprops=dict(facecolor='red', shrink= 0.05),\n",
    "                )\n",
    "\n",
    "ax[0].plot(x, y, 'o', label=('$\\dot VO_2$'), c='r' )\n",
    "ax[0].spines[['right', 'top']].set_visible(False)\n",
    "ax[0].set(ylabel=('L/min'))\n",
    "ax[0].legend()\n",
    "\n",
    "ax[1].plot(x, y1, 'o', label=('VE'), c='b')\n",
    "ax[1].spines[['top', 'right']].set_visible(False)\n",
    "ax[1].set(ylabel=('breaths/min'))\n",
    "ax[1].set(xlabel=('Time(min)'))\n",
    "ax[1].legend()\n",
    "\n",
    "fig.savefig(\"VO2-VE-4.png\", dpi=300, bbox_inches = \"tight\")\n",
    "fig.show()\n",
    "\n",
    "\n",
    "\n",
    "# building the FECO2 and VCO2 plot - xaxis of VO2\n",
    "fig, ax = plt.subplots(2, 1, sharex=True, figsize=(8, 10))\n",
    "fig.subplots_adjust(hspace=0)\n",
    "ax[0].plot(y, y2, 'o', label=('$\\dot FECO2$'), c='r' )\n",
    "ax[0].axvline(x=1.0, color='y', linestyle='-', label=\"GET\")\n",
    "ax[0].axvline(x=2.2, color='g', linestyle='-', label=\"RCP\")\n",
    "ax[0].spines[['right', 'top']].set_visible(False)\n",
    "ax[0].set(ylabel=('%'))\n",
    "ax[0].legend()\n",
    "\n",
    "ax[1].plot(y, y3, 'o', label=('$\\dot VCO_2$'), c='b')\n",
    "ax[1].axvline(x=1.0, color='y', linestyle='-', label=\"GET\")\n",
    "ax[1].axvline(x=2.2, color='g', linestyle='-', label=\"RCP\")\n",
    "ax[1].spines[['top', 'right']].set_visible(False)\n",
    "ax[1].set(ylabel=('L/min'))\n",
    "ax[1].set(xlabel=('L/min'))\n",
    "ax[1].legend()\n",
    "\n",
    "fig.savefig(\"FECO2_VCO2-VO2.png\", dpi=300, bbox_inches = \"tight\")\n",
    "fig.show()"
   ]
  },
  {
   "cell_type": "markdown",
   "id": "6c3f5b97",
   "metadata": {
    "_cell_guid": "233a59f5-d15d-4747-b9b4-a6b57e6ed732",
    "_uuid": "0309dcb2-2a2f-4241-a0fc-ca9be56c2ae5",
    "collapsed": false,
    "jupyter": {
     "outputs_hidden": false
    },
    "papermill": {
     "duration": 0.008912,
     "end_time": "2025-03-26T02:18:07.498903",
     "exception": false,
     "start_time": "2025-03-26T02:18:07.489991",
     "status": "completed"
    },
    "tags": []
   },
   "source": [
    "### Please note that if you change the file path of the datafile in the code block above you create an completely new graph for your new data, all by changing just one line of code...\n",
    "Also I have changed the marker form a line to dots, can you see somthing about the data that was hidden before when it was plotted in lines?"
   ]
  },
  {
   "cell_type": "code",
   "execution_count": null,
   "id": "6ef8816b",
   "metadata": {
    "_cell_guid": "5a5521df-5c7b-4e60-a3bc-52dbb66ffdec",
    "_uuid": "49b5c3f3-9553-4a3c-bb66-26c7d2700a9d",
    "collapsed": false,
    "jupyter": {
     "outputs_hidden": false
    },
    "papermill": {
     "duration": 0.008847,
     "end_time": "2025-03-26T02:18:07.516914",
     "exception": false,
     "start_time": "2025-03-26T02:18:07.508067",
     "status": "completed"
    },
    "tags": []
   },
   "outputs": [],
   "source": []
  }
 ],
 "metadata": {
  "kaggle": {
   "accelerator": "none",
   "dataSources": [
    {
     "datasetId": 2952233,
     "sourceId": 5084312,
     "sourceType": "datasetVersion"
    }
   ],
   "dockerImageVersionId": 30407,
   "isGpuEnabled": false,
   "isInternetEnabled": true,
   "language": "python",
   "sourceType": "notebook"
  },
  "kernelspec": {
   "display_name": "Python 3",
   "language": "python",
   "name": "python3"
  },
  "language_info": {
   "codemirror_mode": {
    "name": "ipython",
    "version": 3
   },
   "file_extension": ".py",
   "mimetype": "text/x-python",
   "name": "python",
   "nbconvert_exporter": "python",
   "pygments_lexer": "ipython3",
   "version": "3.7.12"
  },
  "papermill": {
   "default_parameters": {},
   "duration": 16.754166,
   "end_time": "2025-03-26T02:18:08.247975",
   "environment_variables": {},
   "exception": null,
   "input_path": "__notebook__.ipynb",
   "output_path": "__notebook__.ipynb",
   "parameters": {},
   "start_time": "2025-03-26T02:17:51.493809",
   "version": "2.4.0"
  }
 },
 "nbformat": 4,
 "nbformat_minor": 5
}
